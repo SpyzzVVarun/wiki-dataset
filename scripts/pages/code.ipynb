{
 "cells": [
  {
   "cell_type": "code",
   "execution_count": 2,
   "metadata": {},
   "outputs": [],
   "source": [
    "from selenium import webdriver\n",
    "from selenium.webdriver.common.by import By\n",
    "from selenium.webdriver.support.ui import WebDriverWait\n",
    "from selenium.webdriver.support import expected_conditions as EC\n",
    "from webdriver_manager.chrome import ChromeDriverManager\n",
    "\n",
    "driver_path = \"chromedriver.exe\"\n",
    "\n",
    "# Create ChromeOptions instance\n",
    "options = webdriver.ChromeOptions()\n",
    "\n",
    "# Create Chrome driver with ChromeOptions\n",
    "driver = webdriver.Chrome(executable_path=driver_path, options=options)"
   ]
  },
  {
   "cell_type": "code",
   "execution_count": 2,
   "metadata": {},
   "outputs": [],
   "source": [
    "import glob\n",
    "import os\n",
    "\n",
    "files = glob.glob(\"Infobox-Data*\")"
   ]
  },
  {
   "cell_type": "code",
   "execution_count": 3,
   "metadata": {},
   "outputs": [],
   "source": [
    "for file in files:\n",
    "    os.mkdir(\"pages/\" + file.split(\"\\\\Infobox-Data-\")[-1])"
   ]
  },
  {
   "cell_type": "code",
   "execution_count": 6,
   "metadata": {},
   "outputs": [
    {
     "name": "stderr",
     "output_type": "stream",
     "text": [
      "100%|██████████| 958/958 [00:00<00:00, 9300.91it/s]\n",
      "100%|██████████| 3192/3192 [00:00<00:00, 10363.65it/s]\n",
      "100%|██████████| 4996/4996 [00:03<00:00, 1417.30it/s]\n",
      "100%|██████████| 4932/4932 [00:00<00:00, 14690.07it/s]\n",
      "100%|██████████| 4945/4945 [00:00<00:00, 14381.28it/s]\n",
      "100%|██████████| 4961/4961 [00:00<00:00, 16055.08it/s]\n",
      "100%|██████████| 200/200 [00:00<00:00, 9520.72it/s]\n",
      "100%|██████████| 200/200 [00:00<00:00, 15384.60it/s]\n",
      "100%|██████████| 200/200 [00:00<00:00, 16667.54it/s]\n",
      "100%|██████████| 200/200 [00:00<00:00, 18137.92it/s]\n",
      "100%|██████████| 862/862 [00:00<00:00, 10385.43it/s]\n",
      "100%|██████████| 4935/4935 [00:00<00:00, 9154.57it/s] \n",
      "100%|██████████| 851/851 [00:00<00:00, 8262.18it/s]\n"
     ]
    }
   ],
   "source": [
    "from tqdm import tqdm \n",
    "for file in files:\n",
    "    try:\n",
    "        entities = [entity.split(\".json\")[0] for entity in os.listdir(glob.glob(file + \"/*-infoboxes\")[0])]\n",
    "        template = file.split(\"\\\\Infobox-Data-\")[-1]\n",
    "        for entity in tqdm(entities):\n",
    "            try:\n",
    "                if os.path.exists(f\"pages/{template}/{entity}.txt\"):\n",
    "                    continue\n",
    "                url = f\"https://en.wikipedia.org/wiki/{entity}\"\n",
    "                driver.get(url)\n",
    "                div_element = driver.find_element(By.ID, \"bodyContent\")\n",
    "                div_text = div_element.text\n",
    "                table_element = driver.find_element(By.XPATH, \"//table[@class='infobox vcard']\")\n",
    "                table_text = table_element.text\n",
    "                div_text_without_table = div_text.replace(table_text, \"\")\n",
    "\n",
    "                with open(f\"pages/{template}/{entity}.txt\", \"w\") as f:\n",
    "                    f.write(div_text_without_table)\n",
    "                    f.close()\n",
    "            except:\n",
    "                pass\n",
    "    except:\n",
    "        pass"
   ]
  }
 ],
 "metadata": {
  "kernelspec": {
   "display_name": "myenv",
   "language": "python",
   "name": "python3"
  },
  "language_info": {
   "codemirror_mode": {
    "name": "ipython",
    "version": 3
   },
   "file_extension": ".py",
   "mimetype": "text/x-python",
   "name": "python",
   "nbconvert_exporter": "python",
   "pygments_lexer": "ipython3",
   "version": "3.9.13"
  }
 },
 "nbformat": 4,
 "nbformat_minor": 2
}
